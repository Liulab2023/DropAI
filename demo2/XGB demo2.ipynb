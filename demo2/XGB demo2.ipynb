{
 "cells": [
  {
   "cell_type": "code",
   "execution_count": 1,
   "id": "45d61793",
   "metadata": {},
   "outputs": [],
   "source": [
    "import numpy as np\n",
    "import pandas as pd\n",
    "import matplotlib.pyplot as plt\n",
    "import tensorflow as tf\n",
    "from tensorflow.keras import layers\n",
    "import warnings\n",
    "warnings.filterwarnings(\"ignore\")\n",
    "%matplotlib inline"
   ]
  },
  {
   "cell_type": "code",
   "execution_count": 2,
   "id": "57c70c8f",
   "metadata": {},
   "outputs": [],
   "source": [
    "from sklearn.preprocessing import StandardScaler\n",
    "sc = StandardScaler()\n",
    "from sklearn.model_selection import GridSearchCV\n",
    "from sklearn.metrics import mean_squared_error, r2_score, mean_absolute_error\n",
    "from sklearn.model_selection import train_test_split, KFold"
   ]
  },
  {
   "cell_type": "code",
   "execution_count": 3,
   "id": "95c5a29a",
   "metadata": {},
   "outputs": [],
   "source": [
    "import xgboost as xgb"
   ]
  },
  {
   "cell_type": "code",
   "execution_count": 4,
   "id": "b78d97f0",
   "metadata": {},
   "outputs": [],
   "source": [
    "data_train = pd.read_csv('data_train.csv')\n",
    "X_train = data_train.drop(columns=['Y'], axis=1).values \n",
    "y_train = data_train.drop(columns=['X1','X2','X3'], axis=1).values\n",
    "data_test = pd.read_csv('data_test.csv')\n",
    "X_test = data_test.drop(columns=['Y'], axis=1).values\n",
    "y_test = data_test.drop(columns=['X1','X2','X3'], axis=1).values\n",
    "from sklearn.preprocessing import StandardScaler\n",
    "sc = StandardScaler()\n",
    "X_train = sc.fit_transform(X_train)\n",
    "X_test = sc.transform(X_test)"
   ]
  },
  {
   "cell_type": "code",
   "execution_count": 5,
   "id": "e7638a12",
   "metadata": {},
   "outputs": [
    {
     "name": "stdout",
     "output_type": "stream",
     "text": [
      "R2 in training set： 0.9999999167771113\n",
      "Measured Y： [[34537.6     ]\n",
      " [33742.27338 ]\n",
      " [29036.33623 ]\n",
      " [20435.17845 ]\n",
      " [14911.09005 ]\n",
      " [32098.66667 ]\n",
      " [33167.86777 ]\n",
      " [27721.14286 ]\n",
      " [18223.62791 ]\n",
      " [13223.936   ]\n",
      " [34265.42466 ]\n",
      " [33576.96    ]\n",
      " [27840.83117 ]\n",
      " [18824.53333 ]\n",
      " [14776.32    ]\n",
      " [33121.97531 ]\n",
      " [33131.10204 ]\n",
      " [27530.44898 ]\n",
      " [16983.46667 ]\n",
      " [12244.61017 ]\n",
      " [34002.60993 ]\n",
      " [34697.75238 ]\n",
      " [32954.42051 ]\n",
      " [28668.25366 ]\n",
      " [22476.31925 ]\n",
      " [32259.36842 ]\n",
      " [33757.65854 ]\n",
      " [33097.89691 ]\n",
      " [28065.07865 ]\n",
      " [21836.25532 ]\n",
      " [34113.82857 ]\n",
      " [35770.57627 ]\n",
      " [33738.66667 ]\n",
      " [29162.66667 ]\n",
      " [23062.58824 ]\n",
      " [34136.      ]\n",
      " [35110.12766 ]\n",
      " [33360.59259 ]\n",
      " [26757.26027 ]\n",
      " [21802.12658 ]\n",
      " [30621.31298 ]\n",
      " [32751.17714 ]\n",
      " [34677.84127 ]\n",
      " [33299.92814 ]\n",
      " [30889.56701 ]\n",
      " [28261.33333 ]\n",
      " [31182.90411 ]\n",
      " [34251.85185 ]\n",
      " [32841.6     ]\n",
      " [30472.20513 ]\n",
      " [30280.20513 ]\n",
      " [32910.22222 ]\n",
      " [35249.23077 ]\n",
      " [34078.27957 ]\n",
      " [31475.5122  ]\n",
      " [30590.24658 ]\n",
      " [33021.71429 ]\n",
      " [35435.10204 ]\n",
      " [33233.45455 ]\n",
      " [31107.72816 ]\n",
      " [19010.37037 ]\n",
      " [23210.66667 ]\n",
      " [28801.71812 ]\n",
      " [30668.63158 ]\n",
      " [30540.7108  ]\n",
      " [17091.04762 ]\n",
      " [22084.41379 ]\n",
      " [27653.12    ]\n",
      " [30651.42857 ]\n",
      " [31098.12844 ]\n",
      " [ 3614.72    ]\n",
      " [ 4809.810219]\n",
      " [10246.4     ]\n",
      " [10186.2029  ]\n",
      " [11021.47368 ]\n",
      " [19410.48889 ]\n",
      " [24082.96296 ]\n",
      " [30316.3964  ]\n",
      " [32299.57447 ]\n",
      " [32542.11765 ]\n",
      " [ 2330.25641 ]\n",
      " [ 8026.734177]\n",
      " [20053.73585 ]\n",
      " [22959.43147 ]\n",
      " [24267.66851 ]\n",
      " [ 2768.      ]\n",
      " [ 6163.692308]\n",
      " [19696.      ]\n",
      " [22908.12121 ]\n",
      " [25111.27273 ]\n",
      " [ 1392.      ]\n",
      " [ 2428.      ]\n",
      " [ 4313.358491]\n",
      " [ 6343.111111]\n",
      " [ 4875.636364]\n",
      " [ 2102.857143]\n",
      " [ 7168.      ]\n",
      " [21068.10811 ]\n",
      " [26233.26316 ]\n",
      " [26528.      ]]\n",
      "Predicted Y： [34537.258  33742.766  29035.102  20436.621  14910.318  32099.307\n",
      " 33165.754  27726.826  18220.832  13223.739  34264.625  33578.977\n",
      " 27839.219  18824.84   14776.091  33122.367  33130.387  27530.662\n",
      " 16983.39   12244.879  34002.695  34696.637  32955.22   28667.55\n",
      " 22476.768  32258.396  33760.043  33099.062  28064.037  21835.223\n",
      " 34117.06   35765.254  33738.43   29164.072  23062.234  34134.95\n",
      " 35112.367  33359.918  26757.38   21801.875  30621.654  32750.902\n",
      " 34681.06   33296.75   30889.46   28260.566  31183.664  34242.637\n",
      " 32849.637  30470.88   30278.408  32911.46   35257.81   34071.656\n",
      " 31476.38   30590.648  33021.3    35431.254  33236.926  31107.44\n",
      " 19009.979  23212.744  28797.414  30671.457  30540.506  17091.988\n",
      " 22080.29   27661.28   30644.26   31101.691   3614.8337  4811.865\n",
      " 10236.143  10192.881  11020.649  19409.809  24083.072  30321.012\n",
      " 32296.621  32542.332   2330.539   8026.791  20054.832  22958.09\n",
      " 24268.04    2767.5857  6165.035  19692.656  22911.424  25110.373\n",
      "  1391.4688  2427.5798  4316.6724  6341.351   4876.102   2103.3706\n",
      "  7167.623  21067.812  26233.506  26527.613 ]\n"
     ]
    }
   ],
   "source": [
    "xgb_model = xgb.XGBRegressor( ) \n",
    "model = xgb_model.fit(X_train,y_train)\n",
    "trainpre = model.predict(X_train)\n",
    "R2_in_train = r2_score(y_train , trainpre)\n",
    "print (\"R2 in training set：\", R2_in_train)\n",
    "print (\"Measured Y：\",  y_train)\n",
    "print (\"Predicted Y：\",  trainpre)"
   ]
  },
  {
   "cell_type": "code",
   "execution_count": 6,
   "id": "4b08c2e7",
   "metadata": {},
   "outputs": [
    {
     "name": "stdout",
     "output_type": "stream",
     "text": [
      "R2 in test set： 0.9749819946167376\n",
      "Measured Y： [[32804.24779 ]\n",
      " [32064.57658 ]\n",
      " [28060.14184 ]\n",
      " [19513.31343 ]\n",
      " [14796.8     ]\n",
      " [31970.46154 ]\n",
      " [32806.69767 ]\n",
      " [31951.84158 ]\n",
      " [27777.58025 ]\n",
      " [23131.42857 ]\n",
      " [28497.23077 ]\n",
      " [31074.46154 ]\n",
      " [33141.08527 ]\n",
      " [32187.14483 ]\n",
      " [29604.57143 ]\n",
      " [17758.31579 ]\n",
      " [22531.8209  ]\n",
      " [27453.51938 ]\n",
      " [30004.8254  ]\n",
      " [30816.65306 ]\n",
      " [ 2486.857143]\n",
      " [ 5546.666667]\n",
      " [20574.31579 ]\n",
      " [22686.47619 ]\n",
      " [23941.56522 ]]\n",
      "Predicted Y： [34537.258 33742.766 29035.102 20436.621 14910.318 34002.695 34696.637\n",
      " 32955.22  28667.55  22476.768 30621.654 32750.902 34681.06  33296.75\n",
      " 30889.46  19009.979 23212.744 28797.414 30671.457 30540.506  2330.539\n",
      "  8026.791 20054.832 22958.09  24268.04 ]\n"
     ]
    }
   ],
   "source": [
    "testpre = model.predict(X_test)\n",
    "mse_in_test = mean_squared_error (y_test , testpre)\n",
    "rmse_in_test = np.sqrt (mse_in_test)\n",
    "R2_in_test = r2_score(y_test , testpre)\n",
    "\n",
    "print (\"R2 in test set：\", R2_in_test)\n",
    "print (\"Measured Y：\",  y_test)\n",
    "print (\"Predicted Y：\",  testpre)"
   ]
  },
  {
   "cell_type": "code",
   "execution_count": 7,
   "id": "4a332cee",
   "metadata": {},
   "outputs": [
    {
     "name": "stdout",
     "output_type": "stream",
     "text": [
      "The training and test set results have been saved as CSV files-train_results.csv & test_results.csv\n"
     ]
    }
   ],
   "source": [
    "y_train = np.array(y_train).flatten()  \n",
    "trainpre = np.array(trainpre).flatten()\n",
    "y_test = np.array(y_test).flatten()\n",
    "testpre = np.array(testpre).flatten()\n",
    "\n",
    "train_results = pd.DataFrame({'Measured_Y_train': y_train, 'Predicted_Y_train': trainpre})\n",
    "train_results.to_csv('train_results.csv', index=False)\n",
    "\n",
    "test_results = pd.DataFrame({'Measured_Y_test': y_test, 'Predicted_Y_test': testpre})\n",
    "test_results.to_csv('test_results.csv', index=False)\n",
    "\n",
    "print(\"The training and test set results have been saved as CSV files-train_results.csv & test_results.csv\")"
   ]
  },
  {
   "cell_type": "markdown",
   "id": "68867478",
   "metadata": {},
   "source": [
    "#The above csv contains all the measured values and predicted values needed for visualization, and the training set and test set are saved separately."
   ]
  }
 ],
 "metadata": {
  "kernelspec": {
   "display_name": "Python 3 (ipykernel)",
   "language": "python",
   "name": "python3"
  },
  "language_info": {
   "codemirror_mode": {
    "name": "ipython",
    "version": 3
   },
   "file_extension": ".py",
   "mimetype": "text/x-python",
   "name": "python",
   "nbconvert_exporter": "python",
   "pygments_lexer": "ipython3",
   "version": "3.9.19"
  }
 },
 "nbformat": 4,
 "nbformat_minor": 5
}
